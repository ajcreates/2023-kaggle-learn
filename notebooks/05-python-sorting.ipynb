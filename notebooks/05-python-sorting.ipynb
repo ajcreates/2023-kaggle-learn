{
 "cells": [
  {
   "cell_type": "markdown",
   "metadata": {},
   "source": [
    "# Sorting \n",
    "Sorting is an essential algorithmic skill when solving problems, it autmatically can reveal duplicate elements and simple iterations as well as simplifying complex arrays.\n",
    "Types of sorting include\n",
    "- Alphabetical: Sorting strings by their first letters prioritizing those earlier in the alphabet\n",
    "- Numerical: Sorting sets of numbers from 'least' to 'greatest'\n",
    "- Lexographical: Ordering permutations in a similar way that words can be organized alphabetically or numbers in increasing order but with more complex items like lists.\n",
    "\n",
    "Python already allows for the use of the built-in sorting commands **sort()** and **sorted()**, the first of which replaces the old list with a sorted one and the second of which returns a new sorted list. Both have a parameter called *key*, that allows for a specific sorting algorithm to be specified. It also allows for more complex sorting in its *operator* module, with its itemgetter(), attrgetter(), and methodcaller() commands.\n",
    "\n"
   ]
  },
  {
   "cell_type": "code",
   "execution_count": null,
   "metadata": {},
   "outputs": [],
   "source": [
    "# sort() will replace the old list with a sorted one\n",
    "nums = [1,7,53,927,43,276,29572,291,316] # Will sort from least to greatest\n",
    "print(nums)\n",
    "nums.sort()\n",
    "print(nums) # Note that nums has changed to a sorted list\n",
    "\n",
    "# sorted() will create a new list, leaving the old one intact\n",
    "states = ['Alabama', 'Kentucky', 'New York', 'Washington', 'Utah', 'California'] # Will sort alphabetically from A to Z\n",
    "\n",
    "state_sort = sorted(states)\n",
    "print(states)\n",
    "print(state_sort) # Notice the difference between the two commands"
   ]
  },
  {
   "cell_type": "markdown",
   "metadata": {},
   "source": [
    "However, the general algorithm that sorting is based on is known as **bubble sort**. The basic idea is as follows:\n",
    "1. Iterate through consecutive elements looking for a sorting error, known as an *inversion*\n",
    "2. If a sorting error is present, swap the two elements\n",
    "3. Repeat over and over until the list has 0 inversions\n",
    "4. The list will then be completely sorted"
   ]
  },
  {
   "cell_type": "code",
   "execution_count": null,
   "metadata": {},
   "outputs": [],
   "source": [
    "numbers = [1,7,53,927,43,276,29572,291,316]\n",
    "\n",
    "def num_sort(nums):\n",
    "    invs = 0 # this variable will count inversions\n",
    "    while True: # using a while loop will allow the body to repeat until the list is completely sorted\n",
    "        for i in range(len(nums) - 1): # loop will iterate over consecutive elements\n",
    "            if nums[i] > nums[i+1]:\n",
    "                invs = invs+1 # Will add 1 to the inversion count\n",
    "                nums[i], nums[i+1] = nums[i+1], nums[i] # Switches consecutive elements if they are incorrectly ordered\n",
    "        if invs == 0: # no inversions means a sorted list and the loop can end\n",
    "            break\n",
    "        invs = 0 \n",
    "    return nums\n",
    "\n",
    "print(num_sort(numbers))\n",
    "    "
   ]
  }
 ],
 "metadata": {
  "kernelspec": {
   "display_name": "Python 3",
   "language": "python",
   "name": "python3"
  },
  "language_info": {
   "codemirror_mode": {
    "name": "ipython",
    "version": 3
   },
   "file_extension": ".py",
   "mimetype": "text/x-python",
   "name": "python",
   "nbconvert_exporter": "python",
   "pygments_lexer": "ipython3",
   "version": "3.10.8"
  },
  "orig_nbformat": 4
 },
 "nbformat": 4,
 "nbformat_minor": 2
}
