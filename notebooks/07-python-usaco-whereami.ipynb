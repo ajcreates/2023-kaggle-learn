{
 "cells": [
  {
   "cell_type": "markdown",
   "metadata": {},
   "source": [
    "# Introduction to Sets\n",
    "Introduce the concept of sets and their use in Python programming."
   ]
  },
  {
   "cell_type": "code",
   "execution_count": 25,
   "metadata": {},
   "outputs": [
    {
     "name": "stdout",
     "output_type": "stream",
     "text": [
      "4 is in the set\n"
     ]
    }
   ],
   "source": [
    "# Introduction to Sets\n",
    "\n",
    "# Creating a set\n",
    "my_set = {1, 2, 3, 4, 5}\n",
    "\n",
    "# Adding elements to a set\n",
    "my_set.add(6)\n",
    "\n",
    "# Removing elements from a set\n",
    "my_set.remove(3)\n",
    "\n",
    "# Checking if an element is in a set\n",
    "if 4 in my_set:\n",
    "    print(\"4 is in the set\")\n",
    "\n",
    "# Set operations\n",
    "set1 = {1, 2, 3}\n",
    "set2 = {3, 4, 5}\n",
    "\n",
    "# Union of two sets\n",
    "union_set = set1.union(set2)\n",
    "\n",
    "# Intersection of two sets\n",
    "intersection_set = set1.intersection(set2)\n",
    "\n",
    "# Difference of two sets\n",
    "difference_set = set1.difference(set2)"
   ]
  },
  {
   "cell_type": "markdown",
   "metadata": {},
   "source": [
    "# Creating a Set\n",
    "Explain how to create a set in Python, including the use of curly braces and the set() function."
   ]
  },
  {
   "cell_type": "code",
   "execution_count": 26,
   "metadata": {},
   "outputs": [
    {
     "name": "stdout",
     "output_type": "stream",
     "text": [
      "{1, 2, 3}\n",
      "{4, 5, 6}\n"
     ]
    }
   ],
   "source": [
    "# Creating a Set\n",
    "new_set = {1, 2, 3} # Creating a set using curly braces\n",
    "\n",
    "another_set = set([4, 5, 6]) # Creating a set using the set() function\n",
    "\n",
    "# Printing the sets\n",
    "print(new_set)\n",
    "print(another_set)"
   ]
  },
  {
   "cell_type": "markdown",
   "metadata": {},
   "source": [
    "# Modifying a Set\n",
    "Explain how to modify a set in Python, including the use of add(), remove(), and discard() functions."
   ]
  },
  {
   "cell_type": "code",
   "execution_count": 27,
   "metadata": {},
   "outputs": [
    {
     "name": "stdout",
     "output_type": "stream",
     "text": [
      "{1, 4, 5, 6, 7}\n"
     ]
    }
   ],
   "source": [
    "# Modifying a Set\n",
    "\n",
    "# Adding elements to a set\n",
    "my_set.add(7) # Adds 7 to the set\n",
    "\n",
    "# Removing elements from a set\n",
    "my_set.remove(2) # Removes 2 from the set\n",
    "my_set.discard(8) # Removes 8 from the set if it exists, otherwise does nothing\n",
    "\n",
    "# Printing the modified set\n",
    "print(my_set)"
   ]
  },
  {
   "cell_type": "markdown",
   "metadata": {},
   "source": [
    "# Set Operations\n",
    "Explain the various set operations in Python, including union, intersection, difference, and symmetric difference."
   ]
  },
  {
   "cell_type": "code",
   "execution_count": 28,
   "metadata": {},
   "outputs": [
    {
     "name": "stdout",
     "output_type": "stream",
     "text": [
      "Union of set1 and set2: {1, 2, 3, 4, 5}\n",
      "Intersection of set1 and set2: {3}\n",
      "Difference of set1 and set2: {1, 2}\n",
      "Symmetric difference of set1 and set2: {1, 2, 4, 5}\n"
     ]
    }
   ],
   "source": [
    "# Set Operations\n",
    "\n",
    "# Creating sets\n",
    "set1 = {1, 2, 3}\n",
    "set2 = {3, 4, 5}\n",
    "\n",
    "# Union of two sets\n",
    "union_set = set1.union(set2)\n",
    "print(\"Union of set1 and set2:\", union_set)\n",
    "\n",
    "# Intersection of two sets\n",
    "intersection_set = set1.intersection(set2)\n",
    "print(\"Intersection of set1 and set2:\", intersection_set)\n",
    "\n",
    "# Difference of two sets\n",
    "difference_set = set1.difference(set2)\n",
    "print(\"Difference of set1 and set2:\", difference_set)\n",
    "\n",
    "# Symmetric difference of two sets\n",
    "symmetric_difference_set = set1.symmetric_difference(set2)\n",
    "print(\"Symmetric difference of set1 and set2:\", symmetric_difference_set)"
   ]
  },
  {
   "cell_type": "markdown",
   "metadata": {},
   "source": [
    "# Introduction to Maps\n",
    "Introduce the concept of maps (dictionaries) and their use in Python programming."
   ]
  },
  {
   "cell_type": "code",
   "execution_count": 29,
   "metadata": {},
   "outputs": [
    {
     "name": "stdout",
     "output_type": "stream",
     "text": [
      "Number of apples: 2\n",
      "Grape is in the dictionary\n",
      "{'apple': 2, 'banana': 6, 'grape': 5}\n"
     ]
    }
   ],
   "source": [
    "# Introduction to Maps (Dictionaries)\n",
    "\n",
    "# Creating a dictionary\n",
    "my_dict = {\"apple\": 2, \"banana\": 3, \"orange\": 4}\n",
    "\n",
    "# Accessing values in a dictionary\n",
    "print(\"Number of apples:\", my_dict[\"apple\"])\n",
    "\n",
    "# Adding a key-value pair to a dictionary\n",
    "my_dict[\"grape\"] = 5\n",
    "\n",
    "# Modifying a value in a dictionary\n",
    "my_dict[\"banana\"] = 6\n",
    "\n",
    "# Removing a key-value pair from a dictionary\n",
    "del my_dict[\"orange\"]\n",
    "\n",
    "# Checking if a key is in a dictionary\n",
    "if \"grape\" in my_dict:\n",
    "    print(\"Grape is in the dictionary\")\n",
    "\n",
    "# Printing the dictionary\n",
    "print(my_dict)"
   ]
  },
  {
   "cell_type": "markdown",
   "metadata": {},
   "source": [
    "# Creating a Map\n",
    "Explain how to create a map in Python, including the use of curly braces and the dict() function."
   ]
  },
  {
   "cell_type": "code",
   "execution_count": 30,
   "metadata": {},
   "outputs": [
    {
     "name": "stdout",
     "output_type": "stream",
     "text": [
      "{'John': 25, 'Jane': 30, 'Bob': 35}\n",
      "{'Sam': 40, 'Alice': 45, 'Tom': 50}\n"
     ]
    }
   ],
   "source": [
    "# Creating a Map (Dictionary)\n",
    "my_map = {\"John\": 25, \"Jane\": 30, \"Bob\": 35} # Creating a map using curly braces\n",
    "\n",
    "another_map = dict(Sam=40, Alice=45, Tom=50) # Creating a map using the dict() function\n",
    "\n",
    "# Printing the maps\n",
    "print(my_map)\n",
    "print(another_map)"
   ]
  },
  {
   "cell_type": "markdown",
   "metadata": {},
   "source": [
    "# Modifying a Map\n",
    "Explain how to modify a map in Python, including the use of indexing and the update() function."
   ]
  },
  {
   "cell_type": "code",
   "execution_count": 31,
   "metadata": {},
   "outputs": [
    {
     "name": "stdout",
     "output_type": "stream",
     "text": [
      "{'apple': 2, 'banana': 6, 'grape': 5, 'pear': 1, 'kiwi': 2}\n"
     ]
    }
   ],
   "source": [
    "# Modifying a Map\n",
    "\n",
    "# Creating a dictionary\n",
    "my_dict = {\"apple\": 2, \"banana\": 3, \"orange\": 4}\n",
    "\n",
    "# Modifying a value in a dictionary using indexing\n",
    "my_dict[\"banana\"] = 6\n",
    "\n",
    "# Adding a key-value pair to a dictionary using indexing\n",
    "my_dict[\"grape\"] = 5\n",
    "\n",
    "# Removing a key-value pair from a dictionary using del\n",
    "del my_dict[\"orange\"]\n",
    "\n",
    "# Updating a dictionary with another dictionary using update()\n",
    "new_dict = {\"pear\": 1, \"kiwi\": 2}\n",
    "my_dict.update(new_dict)\n",
    "\n",
    "# Printing the modified dictionary\n",
    "print(my_dict)"
   ]
  },
  {
   "cell_type": "markdown",
   "metadata": {},
   "source": [
    "# Map Operations\n",
    "Explain the various map operations in Python, including keys(), values(), and items()."
   ]
  },
  {
   "cell_type": "code",
   "execution_count": 32,
   "metadata": {},
   "outputs": [
    {
     "name": "stdout",
     "output_type": "stream",
     "text": [
      "Keys in the dictionary: dict_keys(['apple', 'banana', 'orange'])\n",
      "Values in the dictionary: dict_values([2, 3, 4])\n",
      "Key-value pairs in the dictionary: dict_items([('apple', 2), ('banana', 3), ('orange', 4)])\n"
     ]
    }
   ],
   "source": [
    "# Map Operations\n",
    "\n",
    "# Creating a dictionary\n",
    "my_dict = {\"apple\": 2, \"banana\": 3, \"orange\": 4}\n",
    "\n",
    "# Accessing keys in a dictionary\n",
    "print(\"Keys in the dictionary:\", my_dict.keys())\n",
    "\n",
    "# Accessing values in a dictionary\n",
    "print(\"Values in the dictionary:\", my_dict.values())\n",
    "\n",
    "# Accessing key-value pairs in a dictionary\n",
    "print(\"Key-value pairs in the dictionary:\", my_dict.items())"
   ]
  },
  {
   "cell_type": "markdown",
   "metadata": {},
   "source": [
    "# USACO Problem\n",
    "\n",
    "http://www.usaco.org/index.php?page=viewproblem2&cpid=964\n",
    "\n",
    "Farmer John has gone out for a walk down the road and thinks he may now be lost!\n",
    "Along the road there are N\n",
    " farms (1≤N≤100\n",
    ") in a row. Farms unfortunately do not have house numbers, making it hard for Farmer John to figure out his location along the road. However, each farm does have a colorful mailbox along the side of the road, so Farmer John hopes that if he looks at the colors of the mailboxes nearest to him, he can uniquely determine where he is.\n",
    "\n",
    "Each mailbox color is specified by a letter in the range A..Z, so the sequence of N\n",
    " mailboxes down the road can be represented by a string of length N\n",
    " containing letters in the range A..Z. Some mailboxes may have the same colors as other mailboxes. Farmer John wants to know what is the smallest value of K\n",
    " such that if he looks at any sequence of K\n",
    " consecutive mailboxes, he can uniquely determine the location of that sequence along the road.\n",
    "\n",
    "For example, suppose the sequence of mailboxes along the road is 'ABCDABC'. Farmer John cannot set K=3\n",
    ", since if he sees 'ABC', there are two possible locations along the road where this consecutive set of colors might be. The smallest value of K\n",
    " that works is K=4\n",
    ", since if he looks at any consecutive set of 4 mailboxes, this sequence of colors uniquely determines his position along the road.\n",
    "\n",
    "INPUT FORMAT (file whereami.in):\n",
    "The first line of input contains N\n",
    ", and the second line contains a string of N\n",
    " characters, each in the range A..Z.\n",
    "\n",
    "OUTPUT FORMAT (file whereami.out):\n",
    "Print a line containing a single integer, specifying the smallest value of K\n",
    " that solves Farmer John's problem.\n",
    " \n",
    "SAMPLE INPUT:\n",
    "7\n",
    "ABCDABC\n",
    "\n",
    "SAMPLE OUTPUT:\n",
    "4\n",
    "Problem credits: Brian Dean"
   ]
  },
  {
   "cell_type": "code",
   "execution_count": 33,
   "metadata": {},
   "outputs": [],
   "source": [
    "# Copilot Generated\n",
    "# Read the USACO problem\n",
    "# Read the input from the specified file and write output to the specified file\n",
    "\n",
    "with open(\"./../data/USACO/whereami.in\", \"r\") as fin:\n",
    "    n = int(fin.readline().strip())\n",
    "    colors = fin.readline().strip()\n",
    "\n",
    "for k in range(1, n+1):\n",
    "    found = False\n",
    "    for i in range(n-k+1):\n",
    "        if colors[i:i+k] in colors[i+k:]:\n",
    "            found = True\n",
    "            break\n",
    "    if not found:\n",
    "        break\n",
    "\n",
    "with open(\"./../data/USACO/whereami.out.1\", \"w\") as fout:\n",
    "    fout.write(str(k) + \"\\n\")\n"
   ]
  },
  {
   "cell_type": "code",
   "execution_count": 34,
   "metadata": {},
   "outputs": [],
   "source": [
    "# Student Guided\n",
    "# Read the inputs from ./../data/USACO/whereami.i - it should contain n (number of house) and colors (colors of houses)\n",
    "# Find the minimum size of k such that I can identify the location uniquely\n",
    "# Use sets to solve the problem\n",
    "# For example - if k=3 then create a set with all possible combinations of 3 consecutive houses and check if there is any duplicate\n",
    "# If there is a duplicate then increment k and repeat the process\n",
    "# Once you find the minimum k, write the output to ./../data/USACO/whereami.out\n",
    "# Read the input from the specified file\n",
    "# Prompt: Write the code for this solution\n",
    "\n",
    "with open(\"./../data/USACO/whereami.in\", \"r\") as fin:\n",
    "    n = int(fin.readline().strip())\n",
    "    colors = fin.readline().strip()\n",
    "\n",
    "# Find the minimum value of k\n",
    "k = 1\n",
    "while True:\n",
    "    found_duplicate = False\n",
    "    for i in range(n-k+1):\n",
    "        if colors[i:i+k] in colors[i+k:]:\n",
    "            found_duplicate = True\n",
    "            break\n",
    "    if found_duplicate:\n",
    "        k += 1\n",
    "    else:\n",
    "        break\n",
    "\n",
    "# Write the output to the specified file\n",
    "with open(\"./../data/USACO/whereami.out.2\", \"w\") as fout:\n",
    "    fout.write(str(k) + \"\\n\")\n"
   ]
  },
  {
   "cell_type": "code",
   "execution_count": 35,
   "metadata": {},
   "outputs": [],
   "source": [
    "# Student Guided\n",
    "# Solve the problem using sets instead of brute force\n",
    "# Read the input from ./../data/USACO/whereami.i - it should contain n (number of house) and colors (colors of houses)\n",
    "# Find the minimum size of k such that I can identify the location uniquely\n",
    "# Use sets to solve the problem\n",
    "# write the output to ./../data/USACO/whereami.out.3\n",
    "\n",
    "# Read the input from the specified file\n",
    "with open(\"./../data/USACO/whereami.in\", \"r\") as fin:\n",
    "    n = int(fin.readline().strip())\n",
    "    colors = fin.readline().strip()\n",
    "\n",
    "# Find the minimum value of k\n",
    "k = 1\n",
    "while True:\n",
    "    found_duplicate = False\n",
    "    seen = set()\n",
    "    for i in range(n-k+1):\n",
    "        sub = colors[i:i+k]\n",
    "        if sub in seen:\n",
    "            found_duplicate = True\n",
    "            break\n",
    "        seen.add(sub)\n",
    "    if found_duplicate:\n",
    "        k += 1\n",
    "    else:\n",
    "        break\n",
    "\n",
    "# Write the output to the specified file\n",
    "with open(\"./../data/USACO/whereami.out.3\", \"w\") as fout:\n",
    "    fout.write(str(k) + \"\\n\")\n"
   ]
  },
  {
   "cell_type": "code",
   "execution_count": 36,
   "metadata": {},
   "outputs": [],
   "source": [
    "# Student Guided\n",
    "# Simplify the code in the previous solution by checking if the length of the set is equal to the length of the string\n",
    "# Write the output to ./../data/USACO/whereami.out.4\n",
    "# Read the input from the specified file\n",
    "with open(\"./../data/USACO/whereami.in\", \"r\") as fin:\n",
    "    n = int(fin.readline().strip())\n",
    "    colors = fin.readline().strip()\n",
    "\n",
    "# Find the minimum value of k\n",
    "k = 1\n",
    "while True:\n",
    "    if len(set(colors[i:i+k] for i in range(n-k+1))) == n-k+1:\n",
    "        break\n",
    "    k += 1\n",
    "\n",
    "# Write the output to the specified file\n",
    "with open(\"./../data/USACO/whereami.out.4\", \"w\") as fout:\n",
    "    fout.write(str(k) + \"\\n\")\n"
   ]
  },
  {
   "cell_type": "code",
   "execution_count": 37,
   "metadata": {},
   "outputs": [],
   "source": [
    "# USACO Provided Solution\n",
    "\n",
    "# Take in input using Python file i/o system\n",
    "file_in = open(\"./../data/USACO/whereami.in\")\n",
    "data = file_in.read().strip().split(\"\\n\")\n",
    "n = int(data[0])\n",
    "mailboxes = data[1]\n",
    "\n",
    "# Set the answer initially to n, as we know n is always a possible answer\n",
    "ans = n\n",
    "\n",
    "# We can iterate through lengths of sequences to find the smallest length\n",
    "for l in range(1, n + 1):\n",
    "\t# Store the substrings in a set\n",
    "\tsequences = set()\n",
    "\tfor i in range(n - l + 1):\n",
    "\t\tsequences.add(mailboxes[i : i + l])\n",
    "\t# Check if all substrings are unique\n",
    "\tif len(sequences) == (n - l + 1):\n",
    "\t\tans = l\n",
    "\t\t# We can exit the loop as this will be the smallest working length\n",
    "\t\tbreak\n",
    "\n",
    "print(ans, file=open(\"./../data/USACO/whereami.out.5\", \"w\"))"
   ]
  }
 ],
 "metadata": {
  "kernelspec": {
   "display_name": "Python 3",
   "language": "python",
   "name": "python3"
  },
  "language_info": {
   "codemirror_mode": {
    "name": "ipython",
    "version": 3
   },
   "file_extension": ".py",
   "mimetype": "text/x-python",
   "name": "python",
   "nbconvert_exporter": "python",
   "pygments_lexer": "ipython3",
   "version": "3.10.8"
  },
  "orig_nbformat": 4
 },
 "nbformat": 4,
 "nbformat_minor": 2
}
