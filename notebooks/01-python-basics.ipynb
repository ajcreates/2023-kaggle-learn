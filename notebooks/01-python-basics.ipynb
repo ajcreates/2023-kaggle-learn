{
 "cells": [
  {
   "cell_type": "markdown",
   "metadata": {},
   "source": [
    "# Introduction to Python\n",
    "Introduce Python and its features, including its syntax, data types, and control structures. \n",
    "\n",
    "Python uses a simple natural language syntax, incorporating many English words as key commands. Variables are used in Python to house various data types, typically named using lowercase lettering, with words separated by underscores. Variables and the data types they house are the main focus of a program, which intends to output a result. Functions can be applied to variables, which typically output a result based on the variable input. Various data structures such as lists, tuples, dictionaries and more can house large amounts of data with different uses and applications."
   ]
  },
  {
   "cell_type": "code",
   "execution_count": null,
   "metadata": {},
   "outputs": [],
   "source": [
    "# Introduction to Python\n",
    "\n",
    "# Python is a high-level, interpreted programming language.\n",
    "# It has a simple and easy-to-learn syntax, making it a popular choice for beginners.\n",
    "\n",
    "# Data Types\n",
    "# Python has several built-in data types, including:\n",
    "# - Integers (int)\n",
    "# - Floating-point numbers (float)\n",
    "# - Strings (str)\n",
    "# - Booleans (bool)\n",
    "# - Lists (list)\n",
    "# - Tuples (tuple)\n",
    "# - Dictionaries (dict)\n",
    "# - Sets (set)\n",
    "\n",
    "# Control Structures\n",
    "# Python has several control structures, including:\n",
    "# - If statements\n",
    "# - For loops\n",
    "# - While loops\n",
    "# - Try/except blocks\n",
    "\n",
    "# Here is an example of a simple Python program that prints \"Hello, World!\":\n",
    "print(\"Hello, World!\")"
   ]
  },
  {
   "cell_type": "markdown",
   "metadata": {},
   "source": [
    "# Variables and Data Types\n",
    "Cover the basics of variables and data types in Python, including strings, numbers, and booleans."
   ]
  },
  {
   "cell_type": "code",
   "execution_count": null,
   "metadata": {},
   "outputs": [],
   "source": [
    "# Variables and Data Types\n",
    "\n",
    "# Variables are used to store values in Python.\n",
    "# You can assign a value to a variable using the = operator.\n",
    "\n",
    "# Integers\n",
    "my_int = 5\n",
    "print(my_int)\n",
    "\n",
    "# Floating-point numbers\n",
    "my_float = 3.14\n",
    "print(my_float)\n",
    "\n",
    "# Strings\n",
    "my_string = \"Hello, World!\"\n",
    "print(my_string)\n",
    "\n",
    "# Booleans\n",
    "my_bool = True\n",
    "print(my_bool)\n",
    "\n",
    "# You can also use the type() function to check the data type of a variable.\n",
    "print(type(my_int))\n",
    "print(type(my_float))\n",
    "print(type(my_string))\n",
    "print(type(my_bool))"
   ]
  },
  {
   "cell_type": "markdown",
   "metadata": {},
   "source": [
    "# Operators\n",
    "Explain the different types of operators in Python, including arithmetic, comparison, and logical operators."
   ]
  },
  {
   "cell_type": "code",
   "execution_count": null,
   "metadata": {},
   "outputs": [],
   "source": [
    "# Operators\n",
    "\n",
    "# Arithmetic Operators\n",
    "# Addition\n",
    "print(2 + 3)  # Output: 5\n",
    "\n",
    "# Subtraction\n",
    "print(5 - 2)  # Output: 3\n",
    "\n",
    "# Multiplication\n",
    "print(2 * 3)  # Output: 6\n",
    "\n",
    "# Division\n",
    "print(7 / 2)  # Output: 3.5\n",
    "\n",
    "# Floor Division\n",
    "print(7 // 2)  # Output: 3\n",
    "\n",
    "# Modulus\n",
    "print(7 % 2)  # Output: 1\n",
    "\n",
    "# Exponentiation\n",
    "print(2 ** 3)  # Output: 8\n",
    "\n",
    "# Comparison Operators\n",
    "# Equal to\n",
    "print(2 == 2)  # Output: True\n",
    "\n",
    "# Not equal to\n",
    "print(2 != 3)  # Output: True\n",
    "\n",
    "# Greater than\n",
    "print(5 > 3)  # Output: True\n",
    "\n",
    "# Less than\n",
    "print(2 < 4)  # Output: True\n",
    "\n",
    "# Greater than or equal to\n",
    "print(5 >= 5)  # Output: True\n",
    "\n",
    "# Less than or equal to\n",
    "print(3 <= 6)  # Output: True\n",
    "\n",
    "# Logical Operators\n",
    "# And\n",
    "print(True and False)  # Output: False\n",
    "\n",
    "# Or\n",
    "print(True or False)  # Output: True\n",
    "\n",
    "# Not\n",
    "print(not True)  # Output: False"
   ]
  },
  {
   "cell_type": "markdown",
   "metadata": {},
   "source": [
    "# Control Structures\n",
    "Cover the different types of control structures in Python, including if/else statements, loops, and functions."
   ]
  },
  {
   "cell_type": "code",
   "execution_count": null,
   "metadata": {},
   "outputs": [],
   "source": [
    "# Control Structures\n",
    "\n",
    "# If/else statements\n",
    "x = 5\n",
    "if x > 10:\n",
    "    print(\"x is greater than 10\")\n",
    "else:\n",
    "    print(\"x is less than or equal to 10\")\n",
    "\n",
    "# Loops\n",
    "# For loop\n",
    "fruits = [\"apple\", \"banana\", \"cherry\"]\n",
    "for fruit in fruits:\n",
    "    print(fruit)\n",
    "\n",
    "# While loop\n",
    "i = 1\n",
    "while i < 6:\n",
    "    print(i)\n",
    "    i += 1\n",
    "\n",
    "# Functions\n",
    "def greet(name):\n",
    "    print(\"Hello, \" + name + \"!\")\n",
    "    \n",
    "greet(\"Alice\")"
   ]
  },
  {
   "cell_type": "markdown",
   "metadata": {},
   "source": [
    "# Functions\n",
    "Explain how to define and use functions in Python, including function arguments and return values."
   ]
  },
  {
   "cell_type": "code",
   "execution_count": null,
   "metadata": {},
   "outputs": [],
   "source": [
    "# Functions\n",
    "\n",
    "# Functions are a way to group code that performs a specific task.\n",
    "# You can define a function using the def keyword, followed by the function name and any arguments in parentheses.\n",
    "# The code inside the function is indented.\n",
    "\n",
    "# Here is an example of a function that takes a name as an argument and prints a greeting:\n",
    "def greet(name):\n",
    "    print(\"Hello, \" + name + \"!\")\n",
    "    \n",
    "greet(\"Alice\")\n",
    "\n",
    "# You can also define functions that return a value using the return keyword.\n",
    "# Here is an example of a function that takes two numbers as arguments and returns their sum:\n",
    "def add_numbers(x, y):\n",
    "    return x + y\n",
    "\n",
    "result = add_numbers(3, 5)\n",
    "print(result)\n",
    "\n",
    "# You can also define default values for function arguments.\n",
    "# Here is an example of a function that takes a name and a greeting as arguments, with a default greeting of \"Hello\":\n",
    "def greet_with_greeting(name, greeting=\"Hello\"):\n",
    "    print(greeting + \", \" + name + \"!\")\n",
    "    \n",
    "greet_with_greeting(\"Alice\")\n",
    "greet_with_greeting(\"Bob\", \"Hi\")\n"
   ]
  },
  {
   "cell_type": "code",
   "execution_count": null,
   "metadata": {},
   "outputs": [],
   "source": [
    "# Hwre are some example os functions you can use with STRINGS\n",
    "# str(), len(), find(), count(), index(), join(), upper(), lower(), format()\n",
    "\n",
    "# str() converts a given input into a string\n",
    "# Uncomment the code below and try to run it. You should see an error\n",
    "# This is because you are trying to combine a string with a number\n",
    "# print(\"This number is :\" + 5.43534) \n",
    "\n",
    "# str() converts a given input into a string\n",
    "# This should work without error\n",
    "print( \"This number is :\" + str(5.43534))\n",
    "\n",
    "# len() returns the length of a string - the below should return 5\n",
    "print(len(\"ABCDE\"))"
   ]
  },
  {
   "cell_type": "markdown",
   "metadata": {},
   "source": [
    "# Modules and Packages\n",
    "Introduce the concept of modules and packages in Python, and how to import and use them in your code."
   ]
  },
  {
   "cell_type": "code",
   "execution_count": null,
   "metadata": {},
   "outputs": [],
   "source": [
    "# Modules and Packages\n",
    "\n",
    "# Modules are files containing Python code that can be imported and used in other Python code.\n",
    "# Packages are collections of modules that are organized in a directory hierarchy.\n",
    "# You can import modules and packages using the import statement.\n",
    "\n",
    "# Here is an example of importing the math module and using the sqrt function:\n",
    "import math\n",
    "\n",
    "result = math.sqrt(16)\n",
    "print(result)\n",
    "\n",
    "# You can also import specific functions or variables from a module using the from...import statement.\n",
    "# Here is an example of importing the pi variable from the math module:\n",
    "from math import pi\n",
    "\n",
    "print(pi)\n",
    "\n",
    "# You can also import a module or package with an alias using the as keyword.\n",
    "# Here is an example of importing the pandas package with the alias pd:\n",
    "import pandas as pd\n",
    "\n",
    "# Now you can use the pd alias to refer to the pandas package.\n",
    "# For example, you can create a DataFrame using the pd.DataFrame() function:\n",
    "df = pd.DataFrame({'col1': [1, 2], 'col2': [3, 4]})\n",
    "print(df)"
   ]
  }
 ],
 "metadata": {
  "kernelspec": {
   "display_name": "Python 3",
   "language": "python",
   "name": "python3"
  },
  "language_info": {
   "codemirror_mode": {
    "name": "ipython",
    "version": 3
   },
   "file_extension": ".py",
   "mimetype": "text/x-python",
   "name": "python",
   "nbconvert_exporter": "python",
   "pygments_lexer": "ipython3",
   "version": "3.10.8"
  },
  "orig_nbformat": 4
 },
 "nbformat": 4,
 "nbformat_minor": 2
}
