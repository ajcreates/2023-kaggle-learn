{
 "cells": [
  {
   "cell_type": "markdown",
   "metadata": {},
   "source": [
    "# Sorting \n",
    "Sorting is an essential algorithmic skill when solving problems, it autmatically can reveal duplicate elements and simple iterations as well as simplifying complex arrays.\n",
    "Types of sorting include\n",
    "- Alphabetical: Sorting strings by their first letters prioritizing those earlier in the alphabet\n",
    "- Numerical: Sorting sets of numbers from 'least' to 'greatest'\n",
    "- Lexographical: Ordering permutations in a similar way that words can be organized alphabetically or numbers in increasing order but with more complex items like lists.\n",
    "\n",
    "Python already allows for the use of the built-in sorting commands **sort()** and **sorted()**, the first of which replaces the old list with a sorted one and the second of which returns a new sorted list. Both have a parameter called *key*, that allows for a specific sorting algorithm to be specified. It also allows for more complex sorting in its *operator* module, with its itemgetter(), attrgetter(), and methodcaller() commands.\n",
    "\n",
    "However, the general algorithm that sorting is based on is known as **bubble sort**. The basic idea is as follows:\n",
    "1. Iterate through consecutive elements looking for a sorting error, known as an *inversion*\n",
    "2. If a sorting error is present, swap the two elements\n",
    "3. Repeat over and over until the list has 0 inversions\n",
    "4. The list will then be completely sorted"
   ]
  }
 ],
 "metadata": {
  "kernelspec": {
   "display_name": "Python 3",
   "language": "python",
   "name": "python3"
  },
  "language_info": {
   "codemirror_mode": {
    "name": "ipython",
    "version": 3
   },
   "file_extension": ".py",
   "mimetype": "text/x-python",
   "name": "python",
   "nbconvert_exporter": "python",
   "pygments_lexer": "ipython3",
   "version": "3.10.8"
  },
  "orig_nbformat": 4
 },
 "nbformat": 4,
 "nbformat_minor": 2
}
