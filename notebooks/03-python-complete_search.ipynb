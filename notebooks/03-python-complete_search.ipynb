{
 "cells": [
  {
   "cell_type": "markdown",
   "metadata": {},
   "source": [
    "# Complete Search \n",
    "- USACO problems often require a \"brute force\" method called **complete search**, where a program iterates throughout an entire solution set, be it integers, combinations, or other objects. \n",
    "- In Python, for and while loops are often used to iterate through elements, however, this method can be time-consuming. \n",
    "- A technique called recursion is often used, in which certain data structures can be updated after each iteration of a loop, which compiles the results of a complete search within a single data structure, such as a list or dictionary."
   ]
  },
  {
   "cell_type": "markdown",
   "metadata": {},
   "source": [
    "## Problem Type: Find All Subsets\n",
    "Find all the subsets of a given set nf;={'giants, cowboys, eagles'}\n",
    "\n",
    "### Explainer\n",
    "- A set with N elements can have 2^N subsets\n",
    "- Here nfl has N=3 elements => it has 2^N=8 subsets\n",
    "- Here are the 8 subsets of nfl\n",
    "    - 1 Subset of 0 elements => { } => this is the EMPTY set\n",
    "    - 3 Subsets of 1 element => {'giants'} {cowboys'}{'eagles'}\n",
    "    - 3 Subsets of 2 elements at a time => {'giants', eagles}  {'giants',cowboys} {cowboys, eagles}\n",
    "    - 1 Subsets of 3 elements at a time => {'giants, cowboys, eagles'} => this is the WHOLE set\n",
    "\n",
    "### Exercise\n",
    "How can we automatically generate these subsets using code?\n",
    "We can create a function (called \"subsets\") that\n",
    "- takes in the set as an argument (input)\n",
    "- returns a set of elements (output)  - where each element is a valid subset of the input\n",
    "- where the function uses a _bitmask_ algorithm to identify the relevant subsets\n",
    "\n",
    "### Bitmask Algorithm \n",
    "1. Find all binary numbers from 0 to (2^N-1) => here that would be [000 to 111]\n",
    "2. Make sure all binary numbers are represented with N-digits => [000, 001, 010, 011, 100, 101, 110, 111]\n",
    "3. Each number is a bitmask which indicates the _presence_ (1) or _absence_ (0) of the element in _that_ position of the input set\n",
    "    - 000 => { } => no elements are in this subset\n",
    "    - 001 => {eagles}, 010 => {cowboys}, 100 => {giants} -- think of this as a light switch that turns that team on or off in the subset\n",
    "    - 101 => {'giants', eagles} 110 =>  {'giants',cowboys} 011 => {cowboys, eagles}\n",
    "    - 111 =>  {'giants, cowboys, eagles'} \n",
    "4. Each of the above subsets is added to the returned _result_ set.\n",
    "\n",
    "This algorithm will work for **any value of N** and has a Big-O complexity of 2^N.\n",
    "\n",
    "### Bitmask Algorithm Implementation\n",
    "Implementing the algorithm is as simple as having \n",
    "\n"
   ]
  },
  {
   "cell_type": "code",
   "execution_count": 1,
   "metadata": {},
   "outputs": [
    {
     "ename": "TypeError",
     "evalue": "unhashable type: 'set'",
     "output_type": "error",
     "traceback": [
      "\u001b[0;31m---------------------------------------------------------------------------\u001b[0m",
      "\u001b[0;31mTypeError\u001b[0m                                 Traceback (most recent call last)",
      "Cell \u001b[0;32mIn[1], line 25\u001b[0m\n\u001b[1;32m     21\u001b[0m         inter_list \u001b[39m=\u001b[39m []\n\u001b[1;32m     23\u001b[0m     \u001b[39mreturn\u001b[39;00m \u001b[39mset\u001b[39m(subset) \u001b[39m# returns all subsets\u001b[39;00m\n\u001b[0;32m---> 25\u001b[0m subsets(nfl)\n\u001b[1;32m     27\u001b[0m \u001b[39m# Knowing subsets can be very useful, especially with combinatorics questions\u001b[39;00m\n\u001b[1;32m     28\u001b[0m \u001b[39m# For example, all subsets of size 2 \u001b[39;00m\n",
      "Cell \u001b[0;32mIn[1], line 23\u001b[0m, in \u001b[0;36msubsets\u001b[0;34m(items)\u001b[0m\n\u001b[1;32m     20\u001b[0m     subset\u001b[39m.\u001b[39mappend(\u001b[39mset\u001b[39m(inter_list)) \u001b[39m# adds each converted binary number to a new set\u001b[39;00m\n\u001b[1;32m     21\u001b[0m     inter_list \u001b[39m=\u001b[39m []\n\u001b[0;32m---> 23\u001b[0m \u001b[39mreturn\u001b[39;00m \u001b[39mset\u001b[39;49m(subset)\n",
      "\u001b[0;31mTypeError\u001b[0m: unhashable type: 'set'"
     ]
    }
   ],
   "source": [
    "# Subsets\n",
    "# A set is simply a collection of objects, so a subset is just a 'mini' set composed of only elements from bigger set\n",
    "\n",
    "nfl = {'giants', 'cowboys', 'eagles', 'commanders', 'packers', 'lions', 'falcons', 'bucs'} # This is a set, denoted by curly braces\n",
    "\n",
    "# We can create a function that takes in a set and returns all subsets\n",
    "# We use bitmasks, binary numbers from 0 to 2^N - 1 to denote all different subsets\n",
    "\n",
    "def subsets(items):\n",
    "    new_nums = {(bin(b))[2:] for b in range(2**len(items))} # converts all 2^N - 1 integers to binary (bin() command) \n",
    "    new_nums = {'0'*(len(items)-len(i)) + i for i in new_nums} # adds 0's to ensure all binary numbers have the same number of digits\n",
    "\n",
    "    inter_list = []\n",
    "    subset = []\n",
    "\n",
    "    for e in new_nums:\n",
    "        for dig in range(len(e)): # Iterates through every digit of every binary number\n",
    "            if e[dig] == '1':\n",
    "                inter_list.append(list(items)[dig]) # Includes or rejects elements based on its digits\n",
    "        subset.append(set(inter_list)) # adds each converted binary number to a new set\n",
    "        inter_list = []\n",
    "    \n",
    "    return set(subset) # returns all subsets\n",
    "\n",
    "subsets(nfl)\n",
    "\n",
    "# Knowing subsets can be very useful, especially with combinatorics questions\n",
    "# For example, all subsets of size 2 \n",
    "\n",
    "\n"
   ]
  }
 ],
 "metadata": {
  "kernelspec": {
   "display_name": "Python 3",
   "language": "python",
   "name": "python3"
  },
  "language_info": {
   "codemirror_mode": {
    "name": "ipython",
    "version": 3
   },
   "file_extension": ".py",
   "mimetype": "text/x-python",
   "name": "python",
   "nbconvert_exporter": "python",
   "pygments_lexer": "ipython3",
   "version": "3.10.8"
  },
  "orig_nbformat": 4
 },
 "nbformat": 4,
 "nbformat_minor": 2
}
