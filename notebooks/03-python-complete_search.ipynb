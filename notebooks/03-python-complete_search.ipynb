{
 "cells": [
  {
   "cell_type": "markdown",
   "metadata": {},
   "source": [
    "# Complete Search \n",
    "USACO problems often require a \"brute force\" method called **complete search**, where a program iterates throughout an entire solution set, be it integers, combinations, or other objects. In Python, for and while loops are often used to iterate through elements, however, this method can be time-consuming. A technique called recursion is often used, in which certain data structures can be updated after each iteration of a loop, which compiles the results of a complete search within a single data structure, such as a list or dictionary."
   ]
  },
  {
   "cell_type": "markdown",
   "metadata": {},
   "source": [
    "## Subsets\n",
    "Acquiring the subsets of a set of objects is a common task in USACO problems. If a set A has N elements, then it has 2^N subsets, which includes the empty set."
   ]
  },
  {
   "cell_type": "code",
   "execution_count": null,
   "metadata": {},
   "outputs": [],
   "source": [
    "# Subsets\n",
    "# A set is simply a collection of objects, so a subset is just a 'mini' set composed of only elements from bigger set\n",
    "\n",
    "nfl = {'giants', 'cowboys', 'eagles', 'commanders', 'packers', 'lions', 'falcons', 'bucs'} # This is a set, denoted by curly braces\n",
    "\n",
    "# We can create a function that takes in a set and returns all subsets\n",
    "\n",
    "def subsets(items):\n",
    "    new_nums = {(bin(b))[2:] for b in range(2**len(items))} \n",
    "    new_nums = {'0'*(len(items)-len(i)) + i for i in new_nums}\n",
    "\n",
    "    inter_list = []\n",
    "    subset = []\n",
    "\n",
    "    for e in new_nums:\n",
    "        for dig in range(len(e)):\n",
    "            if e[dig] == '1':\n",
    "                inter_list.append(list(items)[dig])\n",
    "        subset.append(set(inter_list))\n",
    "        inter_list = []\n",
    "    \n",
    "    return set{subset}\n",
    "\n",
    "\n"
   ]
  }
 ],
 "metadata": {
  "kernelspec": {
   "display_name": "Python 3",
   "language": "python",
   "name": "python3"
  },
  "language_info": {
   "codemirror_mode": {
    "name": "ipython",
    "version": 3
   },
   "file_extension": ".py",
   "mimetype": "text/x-python",
   "name": "python",
   "nbconvert_exporter": "python",
   "pygments_lexer": "ipython3",
   "version": "3.10.8"
  },
  "orig_nbformat": 4
 },
 "nbformat": 4,
 "nbformat_minor": 2
}
