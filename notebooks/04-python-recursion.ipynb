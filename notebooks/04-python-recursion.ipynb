{
 "cells": [
  {
   "cell_type": "markdown",
   "metadata": {},
   "source": [
    "# Recursion\n",
    "\n",
    "Recursion is a common theme of many coding problems and is a useful way to perform complicated complete search problems. Recursion is simply the process of defining an object in terms of itself. In Python, this means that we can define a function by calling that very same function, provided there is a base case to use.\n",
    "\n",
    "## Example: Write a function that sums the first *n* positive integers from 1 to n\n",
    "\n",
    "We can solve this two ways\n",
    "\n",
    "- Option 1: Write a for loop that iterates over the n integers and continuously add that integer to a variable\n",
    "- Option 2: We can define the sum of the. n integers as the sum of the first n - 1 integers added to n, letting the base case be if n = 1\n",
    "\n",
    "We will present both options below"
   ]
  },
  {
   "cell_type": "code",
   "execution_count": null,
   "metadata": {},
   "outputs": [],
   "source": [
    "# Option 1\n",
    "\n",
    "def normal_sum(n):\n",
    "    x = 0\n",
    "    for i in range(n+1):\n",
    "        x = x + i \n",
    "    return x\n",
    "\n",
    "print(normal_sum(10))\n",
    "\n",
    "# Option 2\n",
    "\n",
    "def recursive_sum(n):\n",
    "    if n == 1:\n",
    "        return 1\n",
    "    else:\n",
    "        return recursive_sum(n) + n \n",
    "\n",
    "print(recursive_sum(10))\n",
    "\n"
   ]
  },
  {
   "cell_type": "markdown",
   "metadata": {},
   "source": [
    "In Option 2, we essentially give Python what to return when n = 1, which allows it return when n=2(simply adding 2 to 1), which allows it to return n=3, and so on. As usual this presents many advantages and disadvantages\n",
    "\n"
   ]
  }
 ],
 "metadata": {
  "kernelspec": {
   "display_name": "Python 3",
   "language": "python",
   "name": "python3"
  },
  "language_info": {
   "codemirror_mode": {
    "name": "ipython",
    "version": 3
   },
   "file_extension": ".py",
   "mimetype": "text/x-python",
   "name": "python",
   "nbconvert_exporter": "python",
   "pygments_lexer": "ipython3",
   "version": "3.10.8"
  },
  "orig_nbformat": 4
 },
 "nbformat": 4,
 "nbformat_minor": 2
}
