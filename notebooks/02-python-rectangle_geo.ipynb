{
 "cells": [
  {
   "cell_type": "markdown",
   "metadata": {},
   "source": [
    "# Rectangle Geometry \n",
    "Rectangle geometry tasks often deal with coordinate geometry, area, and intersecting shapes. It is always important to recognize whether rectangles are in fact parallel to the coordinate axis."
   ]
  },
  {
   "cell_type": "code",
   "execution_count": null,
   "metadata": {},
   "outputs": [],
   "source": [
    "# Rectangle Geometry\n",
    "# We can define rectangles by their top right and bottom left coordinates\n",
    "# All actions are done under the assumption that the rectangles sides are parallel to the plane axes\n",
    "\n",
    "tr_x, tr_y = 5,7 # tr_x and tr_y are the x and y coordinates of the top right respectively.\n",
    "bl_x, bl_y = -1, 2\n",
    "\n",
    "width = tr_x - bl_x # measure of the side of the rectangle parallel to the x-axis\n",
    "length = length = tr_y - bl_y # measure of the side of the rectangle parallel to the x-axis\n",
    "area = width * length\n",
    "\n",
    "print(width, length, area) # should return (6,5,30)\n",
    "\n",
    "# We can further incorporate this into a basic function\n",
    "def rectangle_info(top_right_x, top_right_y, bottom_left_x, bottom_left_y):\n",
    "    width = tr_x - bl_x\n",
    "    length = length = tr_y - bl_y\n",
    "    area = width * length\n",
    "    return (width, length, area)\n",
    "\n",
    "# We can also create a function to determine if two rectangle's intersect as well as the intersection area\n",
    "\n",
    "def intersection(a_info, b_info): # where a_info is a tuple containing the info specified in the parameters of the previous function for a rectangle A\n",
    "    width = min(a_info[0], b_info[0]) - max(a_info[2], b_info[2])\n",
    "    length = min(a_info[1], b_info[1]) - max(a_info[3], b_info[3]) # We start by assuming that if such an intersection existed, it would have the stated dimensions\n",
    "    area = width * length\n",
    "    if width > 0 and length > 0: # If either the width or length of our intersection is nonpositive, then there is no intersection, since dimensions are positive\n",
    "        return (\"Intersection exists and has a width of {}, a length of {}, and an area of {}\".format(width,length,area))\n",
    "    else:\n",
    "        return(\"No intersection exists\")\n",
    "\n",
    "# Test out:\n",
    "k_info = (5,7,-1,2)\n",
    "p_info = (6,8,-3,0)\n",
    "\n",
    "# Use the above functions to find the areas of k, p, and the intersection of k and p\n",
    "\n"
   ]
  }
 ],
 "metadata": {
  "kernelspec": {
   "display_name": "Python 3",
   "language": "python",
   "name": "python3"
  },
  "language_info": {
   "codemirror_mode": {
    "name": "ipython",
    "version": 3
   },
   "file_extension": ".py",
   "mimetype": "text/x-python",
   "name": "python",
   "nbconvert_exporter": "python",
   "pygments_lexer": "ipython3",
   "version": "3.10.8"
  },
  "orig_nbformat": 4
 },
 "nbformat": 4,
 "nbformat_minor": 2
}
